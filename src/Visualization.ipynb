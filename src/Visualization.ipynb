{
 "cells": [
  {
   "cell_type": "code",
   "execution_count": 3,
   "metadata": {},
   "outputs": [],
   "source": [
    "\n",
    "import matplotlib.pyplot as plt\n",
    "%matplotlib inline\n",
    "import pickle\n",
    "import numpy as np"
   ]
  },
  {
   "cell_type": "code",
   "execution_count": 5,
   "metadata": {},
   "outputs": [
    {
     "ename": "AttributeError",
     "evalue": "'NoneType' object has no attribute 'shape'",
     "output_type": "error",
     "traceback": [
      "\u001b[1;31m---------------------------------------------------------------------------\u001b[0m",
      "\u001b[1;31mAttributeError\u001b[0m                            Traceback (most recent call last)",
      "Cell \u001b[1;32mIn[5], line 4\u001b[0m\n\u001b[0;32m      1\u001b[0m \u001b[38;5;28;01mwith\u001b[39;00m \u001b[38;5;28mopen\u001b[39m(\u001b[38;5;124m'\u001b[39m\u001b[38;5;124m../data/feature_maps.pkl\u001b[39m\u001b[38;5;124m'\u001b[39m, \u001b[38;5;124m'\u001b[39m\u001b[38;5;124mrb\u001b[39m\u001b[38;5;124m'\u001b[39m) \u001b[38;5;28;01mas\u001b[39;00m f:\n\u001b[0;32m      2\u001b[0m     feature_maps \u001b[38;5;241m=\u001b[39m pickle\u001b[38;5;241m.\u001b[39mload(f)\n\u001b[1;32m----> 4\u001b[0m \u001b[38;5;28mprint\u001b[39m(\u001b[43mfeature_maps\u001b[49m\u001b[43m[\u001b[49m\u001b[38;5;241;43m0\u001b[39;49m\u001b[43m]\u001b[49m\u001b[38;5;241;43m.\u001b[39;49m\u001b[43mshape\u001b[49m)\n\u001b[0;32m      5\u001b[0m \u001b[38;5;28mprint\u001b[39m(feature_maps[\u001b[38;5;241m1\u001b[39m]\u001b[38;5;241m.\u001b[39mshape)\n\u001b[0;32m      6\u001b[0m _, axes \u001b[38;5;241m=\u001b[39m plt\u001b[38;5;241m.\u001b[39msubplots(\u001b[38;5;241m2\u001b[39m, \u001b[38;5;241m5\u001b[39m)\n",
      "\u001b[1;31mAttributeError\u001b[0m: 'NoneType' object has no attribute 'shape'"
     ]
    }
   ],
   "source": [
    "with open('../data/feature_maps.pkl', 'rb') as f:\n",
    "    feature_maps = pickle.load(f)\n",
    "\n",
    "print(feature_maps[0].shape)\n",
    "print(feature_maps[1].shape)\n",
    "_, axes = plt.subplots(2, 5)\n",
    "\n",
    "for k, v in feature_maps.items():\n",
    "    for c in range(v.shape[1]):\n",
    "        if c != k:\n",
    "            continue\n",
    "        axes[int(k/5), k%5].set_axis_off()\n",
    "        axes[int(k/5), k%5].imshow(np.mean(v, axis=1).reshape((28, 28)), cmap='gray')\n",
    "        axes[int(k/5), k%5].set_title(f'{c}')\n",
    "plt.savefig('explanation.eps')\n",
    "plt.show()"
   ]
  },
  {
   "cell_type": "code",
   "execution_count": null,
   "metadata": {},
   "outputs": [
    {
     "name": "stdout",
     "output_type": "stream",
     "text": [
      "(784, 10000)\n",
      "(10000,)\n"
     ]
    },
    {
     "data": {
      "image/png": "[encoded data removed]",
      "text/plain": [
       "<Figure size 432x288 with 10 Axes>"
      ]
     },
     "metadata": {
      "needs_background": "light"
     },
     "output_type": "display_data"
    }
   ],
   "source": [
    "_, axes = plt.subplots(2, 5)\n",
    "\n",
    "with open('../data/X_test.pkl', 'rb') as f:\n",
    "    X_test = pickle.load(f)\n",
    "    print(X_test.shape)\n",
    "    X_test = X_test.T\n",
    "with open('../data/Y_test.pkl', 'rb') as f:\n",
    "    Y_test = pickle.load(f)\n",
    "    print(Y_test.shape)\n",
    "    \n",
    "for c in range(10):\n",
    "    image_c = np.mean(X_test[np.where(Y_test == c)[0], :], axis=0).reshape(28, 28)\n",
    "    axes[int(c/5), c%5].set_axis_off()\n",
    "    axes[int(c/5), c%5].imshow(image_c, cmap='gray')\n",
    "#         axes[0, c].show()\n",
    "#     break\n",
    "\n",
    "plt.savefig('average_digits.eps')\n",
    "plt.show()"
   ]
  },
  {
   "cell_type": "code",
   "execution_count": null,
   "metadata": {},
   "outputs": [],
   "source": []
  }
 ],
 "metadata": {
  "interpreter": {
   "hash": "1c09e125ac9c1e761396ae19aed331e4cee5068387aa8cf148c503932f7c2d96"
  },
  "kernelspec": {
   "display_name": "Python 3.11.4 ('mL')",
   "language": "python",
   "name": "python3"
  },
  "language_info": {
   "codemirror_mode": {
    "name": "ipython",
    "version": 3
   },
   "file_extension": ".py",
   "mimetype": "text/x-python",
   "name": "python",
   "nbconvert_exporter": "python",
   "pygments_lexer": "ipython3",
   "version": "3.11.4"
  }
 },
 "nbformat": 4,
 "nbformat_minor": 2
}
